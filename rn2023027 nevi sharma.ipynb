{
 "cells": [
  {
   "cell_type": "code",
   "execution_count": 1,
   "id": "b0d5a5aa-c69d-4a9c-b8b0-5d1a526774be",
   "metadata": {},
   "outputs": [
    {
     "name": "stdout",
     "output_type": "stream",
     "text": [
      "# to find the smallest and largest number\n",
      "# enter 5 positive integers hitting 'enter' after each integer\n"
     ]
    },
    {
     "name": "stdin",
     "output_type": "stream",
     "text": [
      " 4\n",
      " 4\n",
      " 41\n",
      " 34\n",
      " 1\n"
     ]
    },
    {
     "name": "stdout",
     "output_type": "stream",
     "text": [
      "1\n",
      "41\n"
     ]
    }
   ],
   "source": [
    "print (\"# to find the smallest and largest number\")\n",
    "print (\"# enter 5 positive integers hitting 'enter' after each integer\")\n",
    "N=int(input())\n",
    "smallest=0\n",
    "largest=0\n",
    "for i in range(N):\n",
    "    entered_number = int(input())\n",
    "    if (i==0):\n",
    "        smallest=entered_number\n",
    "    if (entered_number<smallest):\n",
    "        smallest=entered_number\n",
    "    if (entered_number>largest):\n",
    "        largest=entered_number\n",
    "print (smallest)\n",
    "print (largest)\n"
   ]
  },
  {
   "cell_type": "code",
   "execution_count": 2,
   "id": "1cb42cda-afe7-4a4b-8dc2-e1e6db034c42",
   "metadata": {},
   "outputs": [
    {
     "name": "stdout",
     "output_type": "stream",
     "text": [
      "# To solve quadratic equation a*x*x+b*x+c=0 where a, b, c are integers\n"
     ]
    },
    {
     "name": "stdin",
     "output_type": "stream",
     "text": [
      "enter coefficient 'a' of x square: 1\n",
      "enter coefficient 'b' of x: 4\n",
      "enter the value of constant c: -5\n"
     ]
    },
    {
     "name": "stdout",
     "output_type": "stream",
     "text": [
      "the roots are {1.0} and {-5.0}\n"
     ]
    }
   ],
   "source": [
    "print (\"# To solve quadratic equation a*x*x+b*x+c=0 where a, b, c are integers\")\n",
    "a=int(input(\"enter coefficient 'a' of x square:\"))\n",
    "b=int(input(\"enter coefficient 'b' of x:\"))\n",
    "c=int(input(\"enter the value of constant c:\"))\n",
    "d=(b*b-4*a*c)**0.5\n",
    "x1=(-b+d)/(2*a)\n",
    "x2=(-b-d)/(2*a)\n",
    "print(\"the roots are\", {x1}, \"and\", {x2})\n"
   ]
  },
  {
   "cell_type": "code",
   "execution_count": 5,
   "id": "e38c5eb9-5a12-48bd-b1be-c72f5e20aa07",
   "metadata": {},
   "outputs": [
    {
     "name": "stdout",
     "output_type": "stream",
     "text": [
      "# enter any positive integer to find out if it is a prime number or not?\n"
     ]
    },
    {
     "name": "stdin",
     "output_type": "stream",
     "text": [
      "enter a number: 8\n"
     ]
    },
    {
     "name": "stdout",
     "output_type": "stream",
     "text": [
      "8 is not a prime number\n"
     ]
    }
   ],
   "source": [
    "print(\"# enter any positive integer to find out if it is a prime number or not?\")\n",
    "num = int (input (\"enter a number:\"))\n",
    "flag = False\n",
    "if num == 1:\n",
    "    print(num, \"is not a prime number\")\n",
    "elif num > 1:\n",
    "    for i in range (2, num):\n",
    "        if (num % i) == 0:\n",
    "            flag = True\n",
    "            break\n",
    "\n",
    "\n",
    "\n",
    "    if flag:\n",
    "        print(num, \"is not a prime number\")\n",
    "    else:\n",
    "        print(num, \"is a prime number\")\n"
   ]
  },
  {
   "cell_type": "code",
   "execution_count": 6,
   "id": "34fe54f7-374a-4be9-b4f1-038e76689a05",
   "metadata": {},
   "outputs": [
    {
     "name": "stdout",
     "output_type": "stream",
     "text": [
      "# to find factorial of any integer number\n"
     ]
    },
    {
     "name": "stdin",
     "output_type": "stream",
     "text": [
      "enter a number: 5\n"
     ]
    },
    {
     "name": "stdout",
     "output_type": "stream",
     "text": [
      "the factorial of 5 is 120\n"
     ]
    }
   ],
   "source": [
    "print(\"# to find factorial of any integer number\")\n",
    "num=int(input(\"enter a number:\"))\n",
    "factorial=1\n",
    "if num<0:print(\"sorry, factorial does not exist for negative numbers\")\n",
    "elif num==0:print(\"The factorial of 0 is 1\")\n",
    "for i in range (1, num+1): factorial=factorial*i\n",
    "print(\"the factorial of\", num, \"is\", factorial)\n"
   ]
  },
  {
   "cell_type": "code",
   "execution_count": null,
   "id": "5ff96614-9b60-4060-869d-f9319f70437e",
   "metadata": {},
   "outputs": [],
   "source": []
  }
 ],
 "metadata": {
  "kernelspec": {
   "display_name": "Python 3 (ipykernel)",
   "language": "python",
   "name": "python3"
  },
  "language_info": {
   "codemirror_mode": {
    "name": "ipython",
    "version": 3
   },
   "file_extension": ".py",
   "mimetype": "text/x-python",
   "name": "python",
   "nbconvert_exporter": "python",
   "pygments_lexer": "ipython3",
   "version": "3.11.7"
  }
 },
 "nbformat": 4,
 "nbformat_minor": 5
}
