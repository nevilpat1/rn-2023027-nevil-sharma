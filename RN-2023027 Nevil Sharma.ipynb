{
 "cells": [
  {
   "cell_type": "code",
   "execution_count": null,
   "id": "2c3208b3-67d1-4c35-8a21-cb149d7fca6b",
   "metadata": {},
   "outputs": [],
   "source": [
    "Department of Physics (Autonomous)\n",
    "University of Mumbai\n",
    "Laboratory Course\n",
    "Semester-II (2023-2024)\n",
    "List of Programs\n",
    "Instructor: Mr. Nitin Bijewar\n",
    "1. To find the largest or smallest of a given set of numbers.\n",
    "2. Find roots of a quadratic equation.\n",
    "3. Finding whether a given number is prime or not.\n",
    "4. Finding the factorial of a number\n",
    "5. Bisection Method of finding root of a function."
   ]
  },
  {
   "cell_type": "code",
   "execution_count": 10,
   "id": "cbf2abd1-c1e1-4fe7-98dd-155cc501ddca",
   "metadata": {},
   "outputs": [
    {
     "name": "stdout",
     "output_type": "stream",
     "text": [
      "# To find the largest and smallest amongst 5 numbers\n"
     ]
    },
    {
     "name": "stdin",
     "output_type": "stream",
     "text": [
      "enter first number: 5\n",
      "enter next number: 34\n",
      "enter next number: 0\n"
     ]
    },
    {
     "name": "stdout",
     "output_type": "stream",
     "text": [
      "\n"
     ]
    },
    {
     "name": "stdin",
     "output_type": "stream",
     "text": [
      "enter next number: -89\n"
     ]
    },
    {
     "name": "stdout",
     "output_type": "stream",
     "text": [
      "\n"
     ]
    },
    {
     "name": "stdin",
     "output_type": "stream",
     "text": [
      "enter next number: 900\n"
     ]
    },
    {
     "name": "stdout",
     "output_type": "stream",
     "text": [
      "smallest number is: -89\n",
      "largest number is: 900\n"
     ]
    }
   ],
   "source": [
    "print(\"# To find the largest and smallest amongst 5 numbers\")\n",
    "N=int(input(\"enter first number:\"))\n",
    "l=N\n",
    "s=N\n",
    "for i in range(4):\n",
    "    N=int(input(\"enter next number:\"))\n",
    "    if N>l:\n",
    "        l=N\n",
    "    if N<s:\n",
    "        s=N\n",
    "        print()\n",
    "print(\"smallest number is:\", s)    \n",
    "print(\"largest number is:\", l)"
   ]
  },
  {
   "cell_type": "code",
   "execution_count": 9,
   "id": "1cb42cda-afe7-4a4b-8dc2-e1e6db034c42",
   "metadata": {},
   "outputs": [
    {
     "name": "stdout",
     "output_type": "stream",
     "text": [
      "# To solve quadratic equation a*x**2+b*x+c=0\n",
      "# where a, b, c are integers\n"
     ]
    },
    {
     "name": "stdin",
     "output_type": "stream",
     "text": [
      "enter coefficient 'a' of x square: 1\n",
      "enter coefficient 'b' of x: -5\n",
      "enter the value of constant c: 4\n"
     ]
    },
    {
     "name": "stdout",
     "output_type": "stream",
     "text": [
      "the roots are {4.0} and {1.0}\n"
     ]
    }
   ],
   "source": [
    "print (\"# To solve quadratic equation a*x**2+b*x+c=0\")\n",
    "print(\"# where a, b, c are integers\")\n",
    "a=int(input(\"enter coefficient 'a' of x square:\"))\n",
    "b=int(input(\"enter coefficient 'b' of x:\"))\n",
    "c=int(input(\"enter the value of constant c:\"))\n",
    "d=(b*b-4*a*c)**0.5\n",
    "x1=(-b+d)/(2*a)\n",
    "x2=(-b-d)/(2*a)\n",
    "print(\"the roots are\", {x1}, \"and\", {x2})"
   ]
  },
  {
   "cell_type": "code",
   "execution_count": 11,
   "id": "e38c5eb9-5a12-48bd-b1be-c72f5e20aa07",
   "metadata": {},
   "outputs": [
    {
     "name": "stdout",
     "output_type": "stream",
     "text": [
      "# To check if any positive integer is a prime number\n"
     ]
    },
    {
     "name": "stdin",
     "output_type": "stream",
     "text": [
      "enter a number: 67\n"
     ]
    },
    {
     "name": "stdout",
     "output_type": "stream",
     "text": [
      "67 is a prime number\n"
     ]
    }
   ],
   "source": [
    "print(\"# To check if any positive integer is a prime number\")\n",
    "num = int (input (\"enter a number:\"))\n",
    "flag = False\n",
    "if num == 1:\n",
    "    print(num, \"is not a prime number\")\n",
    "elif num > 1:\n",
    "    for i in range (2, num):\n",
    "        if (num % i) == 0:\n",
    "            flag = True\n",
    "            break\n",
    "    if flag:\n",
    "        print(num, \"is not a prime number\")\n",
    "    else:\n",
    "        print(num, \"is a prime number\")\n"
   ]
  },
  {
   "cell_type": "code",
   "execution_count": 6,
   "id": "34fe54f7-374a-4be9-b4f1-038e76689a05",
   "metadata": {},
   "outputs": [
    {
     "name": "stdout",
     "output_type": "stream",
     "text": [
      "# to find factorial of any integer number\n"
     ]
    },
    {
     "name": "stdin",
     "output_type": "stream",
     "text": [
      "enter a number: 5\n"
     ]
    },
    {
     "name": "stdout",
     "output_type": "stream",
     "text": [
      "the factorial of 5 is 120\n"
     ]
    }
   ],
   "source": [
    "print(\"# to find factorial of any integer number\")\n",
    "num=int(input(\"enter a number:\"))\n",
    "factorial=1\n",
    "if num<0:print(\"sorry, factorial does not exist for negative numbers\")\n",
    "elif num==0:print(\"The factorial of 0 is 1\")\n",
    "for i in range (1, num+1): factorial=factorial*i\n",
    "print(\"the factorial of\", num, \"is\", factorial)\n"
   ]
  },
  {
   "cell_type": "code",
   "execution_count": 8,
   "id": "5ff96614-9b60-4060-869d-f9319f70437e",
   "metadata": {},
   "outputs": [
    {
     "name": "stdout",
     "output_type": "stream",
     "text": [
      "# Bisection method\n",
      "# To find roots of a function f(x) = x**3-5*x+18\n",
      "# where a and b are the intervals and n the number of iterations\n"
     ]
    },
    {
     "name": "stdin",
     "output_type": "stream",
     "text": [
      "enter value for a: -4\n",
      "enter value for b: -3\n",
      "enter value for n: 5\n"
     ]
    },
    {
     "name": "stdout",
     "output_type": "stream",
     "text": [
      "iteration= 1 mp= -3.5 f(mp) -7.375\n",
      "iteration= 2 mp= -3.25 f(mp) -0.078125\n",
      "iteration= 3 mp= -3.125 f(mp) 3.107421875\n",
      "iteration= 4 mp= -3.1875 f(mp) 1.552001953125\n",
      "iteration= 5 mp= -3.21875 f(mp) 0.746368408203125\n",
      "required root is: -3.21875\n"
     ]
    }
   ],
   "source": [
    "print(\"# Bisection method\")\n",
    "print(\"# To find roots of a function f(x) = x**3-5*x+18\")\n",
    "print(\"# where a and b are the intervals and n the number of iterations\")\n",
    "\n",
    "def f(x):\n",
    "    return x**3-5*x+18\n",
    "def bm(a,b,n):\n",
    "    i=1\n",
    "    condition=True\n",
    "    while condition:\n",
    "        mp=(a+b)/2\n",
    "        if f(mp)<0:\n",
    "            a=mp\n",
    "        else:\n",
    "            b=mp\n",
    "        print(\"iteration=\",i,\"mp=\",mp,\"f(mp)\", f(mp))\n",
    "        if i==n:\n",
    "            condition=False\n",
    "        else:\n",
    "            condition=True\n",
    "            i=i+1\n",
    "    print(\"required root is:\", mp)\n",
    "a=float(input(\"enter value for a:\"))\n",
    "b=float(input(\"enter value for b:\"))\n",
    "n=int(input(\"enter value for n:\"))\n",
    "\n",
    "if f(a)*f(b)>0:\n",
    "   print(\"root is not available try again with different values of a and b\")\n",
    "else:\n",
    "    bm(a,b,n)"
   ]
  }
 ],
 "metadata": {
  "kernelspec": {
   "display_name": "Python 3 (ipykernel)",
   "language": "python",
   "name": "python3"
  },
  "language_info": {
   "codemirror_mode": {
    "name": "ipython",
    "version": 3
   },
   "file_extension": ".py",
   "mimetype": "text/x-python",
   "name": "python",
   "nbconvert_exporter": "python",
   "pygments_lexer": "ipython3",
   "version": "3.11.7"
  }
 },
 "nbformat": 4,
 "nbformat_minor": 5
}
