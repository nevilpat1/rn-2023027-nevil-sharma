{
 "cells": [
  {
   "cell_type": "code",
   "execution_count": null,
   "id": "f1172314-ca59-45f0-9941-591be39f5805",
   "metadata": {},
   "outputs": [],
   "source": [
    "Numerical Techniques - Python Programming\n",
    "Assignment 1\n",
    "MSc Physics University of Mumbai (Autonomous)\n",
    "UDP Kalina\n",
    "Instructor: Mr. Sajeev Chacko"
   ]
  },
  {
   "cell_type": "code",
   "execution_count": 18,
   "id": "d5c32e1b-c1c4-4361-9302-71fe11b8ed27",
   "metadata": {},
   "outputs": [
    {
     "name": "stdout",
     "output_type": "stream",
     "text": [
      "# To calculate area of a triangle using side lengths\n"
     ]
    },
    {
     "name": "stdin",
     "output_type": "stream",
     "text": [
      "enter side length A: 3\n",
      "enter side length B: 4\n",
      "enter side length C: 5\n"
     ]
    },
    {
     "name": "stdout",
     "output_type": "stream",
     "text": [
      "area =  6.0\n"
     ]
    }
   ],
   "source": [
    "print(\"# To calculate area of a triangle using side lengths\")\n",
    "a=int(input(\"enter side length A:\"))\n",
    "b=int(input(\"enter side length B:\"))\n",
    "c=int(input(\"enter side length C:\"))\n",
    "s=(a+b+c)/2\n",
    "area=(s*(s-a)*(s-b)*(s-c))**0.5\n",
    "print(\"area = \", area)"
   ]
  },
  {
   "cell_type": "code",
   "execution_count": 19,
   "id": "1aa2a5d2-c2a8-45a2-8acf-6720fcbe46d8",
   "metadata": {},
   "outputs": [
    {
     "name": "stdout",
     "output_type": "stream",
     "text": [
      "# To swap values of two variables\n"
     ]
    },
    {
     "name": "stdin",
     "output_type": "stream",
     "text": [
      "enter a number for X =  4\n",
      "enter a number for Y =  5\n"
     ]
    },
    {
     "name": "stdout",
     "output_type": "stream",
     "text": [
      "X = 5\n",
      "Y = 4\n"
     ]
    }
   ],
   "source": [
    "print(\"# To swap values of two variables\")\n",
    "x=int(input(\"enter a number for X = \"))\n",
    "y=int(input(\"enter a number for Y = \"))\n",
    "temp=x\n",
    "x=y\n",
    "y=temp\n",
    "print(\"X =\", x)\n",
    "print(\"Y =\", y)"
   ]
  },
  {
   "cell_type": "code",
   "execution_count": 20,
   "id": "68983e02-ed4c-422a-b9f0-f0da9de3ef7c",
   "metadata": {},
   "outputs": [
    {
     "name": "stdout",
     "output_type": "stream",
     "text": [
      "# To convert km to miles\n"
     ]
    },
    {
     "name": "stdin",
     "output_type": "stream",
     "text": [
      "enter value for km: 3\n"
     ]
    },
    {
     "name": "stdout",
     "output_type": "stream",
     "text": [
      "3.00 kilometers is equal to 1.86 miles\n"
     ]
    }
   ],
   "source": [
    "print(\"# To convert km to miles\")\n",
    "kilometers=float(input(\"enter value for km:\"))\n",
    "k_m=0.62\n",
    "miles=kilometers*k_m\n",
    "print((\"%0.2f kilometers is equal to %0.2f miles\") %(kilometers, miles))"
   ]
  },
  {
   "cell_type": "code",
   "execution_count": 21,
   "id": "07474a32-6133-40b6-bb08-a139a9a09f8a",
   "metadata": {},
   "outputs": [
    {
     "name": "stdout",
     "output_type": "stream",
     "text": [
      "# To convert degrees Celsius to degrees Fahrenheit\n"
     ]
    },
    {
     "name": "stdin",
     "output_type": "stream",
     "text": [
      "Enter degrees Celsius C =  40\n"
     ]
    },
    {
     "name": "stdout",
     "output_type": "stream",
     "text": [
      "Degrees Fahrenheit F =  104.0\n"
     ]
    }
   ],
   "source": [
    "print(\"# To convert degrees Celsius to degrees Fahrenheit\")\n",
    "C=float(input(\"Enter degrees Celsius C = \"))\n",
    "F=C*(9/5)+32\n",
    "print(\"Degrees Fahrenheit F = \", F)"
   ]
  },
  {
   "cell_type": "code",
   "execution_count": 22,
   "id": "054b4790-bf5a-4943-aa04-12f677b20da5",
   "metadata": {},
   "outputs": [
    {
     "name": "stdout",
     "output_type": "stream",
     "text": [
      "# To find the largest amongst 3 numbers\n"
     ]
    },
    {
     "name": "stdin",
     "output_type": "stream",
     "text": [
      "enter first number: 98\n",
      "enter next number: 0\n",
      "enter next number: -67\n"
     ]
    },
    {
     "name": "stdout",
     "output_type": "stream",
     "text": [
      "largest number is: 98\n"
     ]
    }
   ],
   "source": [
    "print(\"# To find the largest amongst 3 numbers\")\n",
    "N=int(input(\"enter first number:\"))\n",
    "l=N\n",
    "s=N\n",
    "for i in range (2):\n",
    "    N=int(input(\"enter next number:\"))\n",
    "    if N>l:\n",
    "        l=N\n",
    "        print()\n",
    "print(\"largest number is:\", l)"
   ]
  },
  {
   "cell_type": "code",
   "execution_count": 23,
   "id": "5ff4ed8c-ea65-42b6-ad2b-5a3f8b4ae43a",
   "metadata": {},
   "outputs": [
    {
     "name": "stdout",
     "output_type": "stream",
     "text": [
      "# To check if any integer is an armstrong number\n"
     ]
    },
    {
     "name": "stdin",
     "output_type": "stream",
     "text": [
      "enter a number N =  8208\n"
     ]
    },
    {
     "name": "stdout",
     "output_type": "stream",
     "text": [
      "8208 is an armstrong number\n"
     ]
    }
   ],
   "source": [
    "print(\"# To check if any integer is an armstrong number\")\n",
    "N=int(input(\"enter a number N = \"))\n",
    "order=len(str(N))\n",
    "sum=0\n",
    "temp=N\n",
    "while temp>0:\n",
    "    digit=temp%10\n",
    "    sum+=digit**order\n",
    "    temp//=10\n",
    "if N==sum:\n",
    "    print(N,\"is an armstrong number\")\n",
    "else:\n",
    "    print(N,\"is NOT an armstrong number\")"
   ]
  },
  {
   "cell_type": "code",
   "execution_count": 24,
   "id": "74810145-f5c9-4984-874d-f95bfe464298",
   "metadata": {},
   "outputs": [
    {
     "name": "stdout",
     "output_type": "stream",
     "text": [
      "# To find the sum of the first N natural numbers\n"
     ]
    },
    {
     "name": "stdin",
     "output_type": "stream",
     "text": [
      "enter number N: 5\n"
     ]
    },
    {
     "name": "stdout",
     "output_type": "stream",
     "text": [
      "the sum of the first 5 natural numbers =  15.0\n"
     ]
    }
   ],
   "source": [
    "print(\"# To find the sum of the first N natural numbers\")\n",
    "N=int(input(\"enter number N:\"))\n",
    "S=(N*(N+1)/2)\n",
    "print(\"the sum of the first\" , N ,\"natural numbers = \",S)"
   ]
  },
  {
   "cell_type": "code",
   "execution_count": 25,
   "id": "65ffd346-09e2-419e-8bf7-75069c4d2ec3",
   "metadata": {},
   "outputs": [
    {
     "name": "stdout",
     "output_type": "stream",
     "text": [
      "# To display powers of 2\n",
      "2^ 0 is 1\n",
      "2^ 1 is 2\n",
      "2^ 2 is 4\n",
      "2^ 3 is 8\n",
      "2^ 4 is 16\n",
      "2^ 5 is 32\n",
      "2^ 6 is 64\n",
      "2^ 7 is 128\n",
      "2^ 8 is 256\n",
      "2^ 9 is 512\n",
      "2^ 10 is 1024\n",
      "2^ 11 is 2048\n",
      "2^ 12 is 4096\n",
      "2^ 13 is 8192\n",
      "2^ 14 is 16384\n",
      "2^ 15 is 32768\n",
      "2^ 16 is 65536\n",
      "2^ 17 is 131072\n",
      "2^ 18 is 262144\n",
      "2^ 19 is 524288\n",
      "2^ 20 is 1048576\n"
     ]
    }
   ],
   "source": [
    "print(\"# To display powers of 2\")\n",
    "x=-1\n",
    "for i in range (21):\n",
    "    n=2**i\n",
    "    x+=1\n",
    "    print(\"2^\",x,\"is\",n)"
   ]
  },
  {
   "cell_type": "code",
   "execution_count": 26,
   "id": "6b6fe16f-1253-41cf-ba71-2e70cb7c107b",
   "metadata": {},
   "outputs": [
    {
     "name": "stdout",
     "output_type": "stream",
     "text": [
      "# To display multiplication table\n"
     ]
    },
    {
     "name": "stdin",
     "output_type": "stream",
     "text": [
      "Enter integer for multiplication table: 15\n"
     ]
    },
    {
     "name": "stdout",
     "output_type": "stream",
     "text": [
      "15 x 1 = 15\n",
      "15 x 2 = 30\n",
      "15 x 3 = 45\n",
      "15 x 4 = 60\n",
      "15 x 5 = 75\n",
      "15 x 6 = 90\n",
      "15 x 7 = 105\n",
      "15 x 8 = 120\n",
      "15 x 9 = 135\n",
      "15 x 10 = 150\n",
      "15 x 11 = 165\n",
      "15 x 12 = 180\n"
     ]
    }
   ],
   "source": [
    "print(\"# To display multiplication table\")\n",
    "n=int(input(\"Enter integer for multiplication table:\"))\n",
    "for i in range(1,13):\n",
    "    print(n,\"x\",i,\"=\",n*i)"
   ]
  },
  {
   "cell_type": "code",
   "execution_count": 27,
   "id": "389a0af8-d831-4a26-b3d3-9fcef413a084",
   "metadata": {},
   "outputs": [
    {
     "name": "stdout",
     "output_type": "stream",
     "text": [
      "# To convert decimal to binary\n"
     ]
    },
    {
     "name": "stdin",
     "output_type": "stream",
     "text": [
      "Enter an integer decimal: 13\n"
     ]
    },
    {
     "name": "stdout",
     "output_type": "stream",
     "text": [
      "Binary of 13 is 1101\n"
     ]
    }
   ],
   "source": [
    "print(\"# To convert decimal to binary\")\n",
    "def dec(n):\n",
    "    b=0\n",
    "    i=1\n",
    "    r=0\n",
    "    while n!=0:\n",
    "        r=n%2\n",
    "        n=n//2\n",
    "        b+=r*i\n",
    "        i*=10\n",
    "    return b\n",
    "n=int(input(\"Enter an integer decimal:\"))\n",
    "print(\"Binary of\",n, \"is\", dec(n))"
   ]
  },
  {
   "cell_type": "code",
   "execution_count": 28,
   "id": "14e3ce83-3a69-4ad0-a9d2-501fd8476645",
   "metadata": {},
   "outputs": [
    {
     "name": "stdout",
     "output_type": "stream",
     "text": [
      "# To convert decimal to octal\n"
     ]
    },
    {
     "name": "stdin",
     "output_type": "stream",
     "text": [
      "Enter an integer decimal: 89\n"
     ]
    },
    {
     "name": "stdout",
     "output_type": "stream",
     "text": [
      "Octal of 89 is 131\n"
     ]
    }
   ],
   "source": [
    "print(\"# To convert decimal to octal\")\n",
    "def dec(n):\n",
    "    b=0\n",
    "    i=1\n",
    "    r=0\n",
    "    while n!=0:\n",
    "        r=n%8\n",
    "        n=n//8\n",
    "        b+=r*i\n",
    "        i*=10\n",
    "    return b\n",
    "n=int(input(\"Enter an integer decimal:\"))\n",
    "print(\"Octal of\",n, \"is\", dec(n))"
   ]
  },
  {
   "cell_type": "code",
   "execution_count": 29,
   "id": "a58c23ff-3505-464c-b028-02cc4a9fc43a",
   "metadata": {},
   "outputs": [
    {
     "name": "stdout",
     "output_type": "stream",
     "text": [
      "# To convert decimal to hexadecimal\n"
     ]
    },
    {
     "name": "stdin",
     "output_type": "stream",
     "text": [
      "Enter an integer decimal: 300\n"
     ]
    },
    {
     "name": "stdout",
     "output_type": "stream",
     "text": [
      "Hexadecimal of 300 is 12C\n"
     ]
    }
   ],
   "source": [
    "print(\"# To convert decimal to hexadecimal\")\n",
    "conversion_table={0:\"0\",1:\"1\",2:\"2\",3:\"3\",4:\"4\",5:\"5\",6:\"6\",\n",
    "                  7:\"7\",8:\"8\",9:\"9\",10:\"A\",11:\"B\",12:\"C\",13:\"D\",14:\"E\",15:\"F\"}\n",
    "def dec(n):\n",
    "    if(n<=0):\n",
    "        return\"\"\n",
    "    r=n%16\n",
    "    return dec(n//16)+conversion_table[r]\n",
    "n=int(input(\"Enter an integer decimal:\"))\n",
    "print(\"Hexadecimal of\",n, \"is\", dec(n))"
   ]
  }
 ],
 "metadata": {
  "kernelspec": {
   "display_name": "Python 3 (ipykernel)",
   "language": "python",
   "name": "python3"
  },
  "language_info": {
   "codemirror_mode": {
    "name": "ipython",
    "version": 3
   },
   "file_extension": ".py",
   "mimetype": "text/x-python",
   "name": "python",
   "nbconvert_exporter": "python",
   "pygments_lexer": "ipython3",
   "version": "3.11.7"
  }
 },
 "nbformat": 4,
 "nbformat_minor": 5
}
